{
  "nbformat": 4,
  "nbformat_minor": 0,
  "metadata": {
    "colab": {
      "name": "Untitled3.ipynb",
      "provenance": [],
      "collapsed_sections": []
    },
    "kernelspec": {
      "name": "python3",
      "display_name": "Python 3"
    }
  },
  "cells": [
    {
      "cell_type": "code",
      "metadata": {
        "colab": {
          "base_uri": "https://localhost:8080/"
        },
        "id": "LCwrbsdx8u2K",
        "outputId": "7091d7d7-3b8e-4115-ca68-eb0f1ddbd578"
      },
      "source": [
        "import pandas as pd\n",
        "import numpy as np\n",
        "import re\n",
        "import nltk\n",
        "from nltk.corpus import stopwords\n",
        "from nltk.stem import PorterStemmer\n",
        "from sklearn.feature_extraction.text import TfidfVectorizer, TfidfTransformer\n",
        "import matplotlib.pyplot as plt\n",
        "import seaborn as sns\n",
        "import pickle\n",
        "nltk.download('punkt')\n",
        "nltk.download('stopwords')"
      ],
      "execution_count": 60,
      "outputs": [
        {
          "output_type": "stream",
          "text": [
            "[nltk_data] Downloading package punkt to /root/nltk_data...\n",
            "[nltk_data]   Package punkt is already up-to-date!\n",
            "[nltk_data] Downloading package stopwords to /root/nltk_data...\n",
            "[nltk_data]   Package stopwords is already up-to-date!\n"
          ],
          "name": "stdout"
        },
        {
          "output_type": "execute_result",
          "data": {
            "text/plain": [
              "True"
            ]
          },
          "metadata": {
            "tags": []
          },
          "execution_count": 60
        }
      ]
    },
    {
      "cell_type": "code",
      "metadata": {
        "id": "stUiPWfu-cJs"
      },
      "source": [
        "data = pd.read_csv('chrome_reviews.csv')"
      ],
      "execution_count": 19,
      "outputs": []
    },
    {
      "cell_type": "code",
      "metadata": {
        "colab": {
          "base_uri": "https://localhost:8080/",
          "height": 168
        },
        "id": "cJxcTYDd-iPe",
        "outputId": "72ea60ee-f824-4b37-b9f1-71e36d1b1832"
      },
      "source": [
        "data.head(1)"
      ],
      "execution_count": 20,
      "outputs": [
        {
          "output_type": "execute_result",
          "data": {
            "text/html": [
              "<div>\n",
              "<style scoped>\n",
              "    .dataframe tbody tr th:only-of-type {\n",
              "        vertical-align: middle;\n",
              "    }\n",
              "\n",
              "    .dataframe tbody tr th {\n",
              "        vertical-align: top;\n",
              "    }\n",
              "\n",
              "    .dataframe thead th {\n",
              "        text-align: right;\n",
              "    }\n",
              "</style>\n",
              "<table border=\"1\" class=\"dataframe\">\n",
              "  <thead>\n",
              "    <tr style=\"text-align: right;\">\n",
              "      <th></th>\n",
              "      <th>ID</th>\n",
              "      <th>Review URL</th>\n",
              "      <th>Text</th>\n",
              "      <th>Star</th>\n",
              "      <th>Thumbs Up</th>\n",
              "      <th>User Name</th>\n",
              "      <th>Developer Reply</th>\n",
              "      <th>Version</th>\n",
              "      <th>Review Date</th>\n",
              "      <th>App ID</th>\n",
              "    </tr>\n",
              "  </thead>\n",
              "  <tbody>\n",
              "    <tr>\n",
              "      <th>0</th>\n",
              "      <td>3886</td>\n",
              "      <td>https://play.google.com/store/apps/details?id=...</td>\n",
              "      <td>This is very helpfull aap.</td>\n",
              "      <td>5</td>\n",
              "      <td>0</td>\n",
              "      <td>INDIAN Knowledge</td>\n",
              "      <td>NaN</td>\n",
              "      <td>83.0.4103.106</td>\n",
              "      <td>2020-12-19</td>\n",
              "      <td>com.android.chrome</td>\n",
              "    </tr>\n",
              "  </tbody>\n",
              "</table>\n",
              "</div>"
            ],
            "text/plain": [
              "     ID  ...              App ID\n",
              "0  3886  ...  com.android.chrome\n",
              "\n",
              "[1 rows x 10 columns]"
            ]
          },
          "metadata": {
            "tags": []
          },
          "execution_count": 20
        }
      ]
    },
    {
      "cell_type": "code",
      "metadata": {
        "colab": {
          "base_uri": "https://localhost:8080/"
        },
        "id": "dKoFe2vi-lOm",
        "outputId": "09962206-b553-4d0d-d6b4-4a6b45e2e807"
      },
      "source": [
        "data.shape"
      ],
      "execution_count": 21,
      "outputs": [
        {
          "output_type": "execute_result",
          "data": {
            "text/plain": [
              "(7204, 10)"
            ]
          },
          "metadata": {
            "tags": []
          },
          "execution_count": 21
        }
      ]
    },
    {
      "cell_type": "code",
      "metadata": {
        "id": "eOOWTs0-_xJV"
      },
      "source": [
        "cols = ['ID','Review URL','Thumbs Up','User Name','Developer Reply','Version','Review Date','App ID']"
      ],
      "execution_count": 22,
      "outputs": []
    },
    {
      "cell_type": "code",
      "metadata": {
        "id": "fuZiMo5YAXPK"
      },
      "source": [
        "data.drop(cols, axis=1, inplace=True)"
      ],
      "execution_count": 23,
      "outputs": []
    },
    {
      "cell_type": "code",
      "metadata": {
        "colab": {
          "base_uri": "https://localhost:8080/",
          "height": 204
        },
        "id": "Nk4xT1xMAdlO",
        "outputId": "a336ab45-58f1-44cd-e843-9cfa6344ce42"
      },
      "source": [
        "data.head()"
      ],
      "execution_count": 24,
      "outputs": [
        {
          "output_type": "execute_result",
          "data": {
            "text/html": [
              "<div>\n",
              "<style scoped>\n",
              "    .dataframe tbody tr th:only-of-type {\n",
              "        vertical-align: middle;\n",
              "    }\n",
              "\n",
              "    .dataframe tbody tr th {\n",
              "        vertical-align: top;\n",
              "    }\n",
              "\n",
              "    .dataframe thead th {\n",
              "        text-align: right;\n",
              "    }\n",
              "</style>\n",
              "<table border=\"1\" class=\"dataframe\">\n",
              "  <thead>\n",
              "    <tr style=\"text-align: right;\">\n",
              "      <th></th>\n",
              "      <th>Text</th>\n",
              "      <th>Star</th>\n",
              "    </tr>\n",
              "  </thead>\n",
              "  <tbody>\n",
              "    <tr>\n",
              "      <th>0</th>\n",
              "      <td>This is very helpfull aap.</td>\n",
              "      <td>5</td>\n",
              "    </tr>\n",
              "    <tr>\n",
              "      <th>1</th>\n",
              "      <td>Good</td>\n",
              "      <td>3</td>\n",
              "    </tr>\n",
              "    <tr>\n",
              "      <th>2</th>\n",
              "      <td>Not able to update. Neither able to uninstall.</td>\n",
              "      <td>1</td>\n",
              "    </tr>\n",
              "    <tr>\n",
              "      <th>3</th>\n",
              "      <td>Nice app</td>\n",
              "      <td>4</td>\n",
              "    </tr>\n",
              "    <tr>\n",
              "      <th>4</th>\n",
              "      <td>Many unwanted ads</td>\n",
              "      <td>1</td>\n",
              "    </tr>\n",
              "  </tbody>\n",
              "</table>\n",
              "</div>"
            ],
            "text/plain": [
              "                                             Text  Star\n",
              "0                      This is very helpfull aap.     5\n",
              "1                                            Good     3\n",
              "2  Not able to update. Neither able to uninstall.     1\n",
              "3                                        Nice app     4\n",
              "4                               Many unwanted ads     1"
            ]
          },
          "metadata": {
            "tags": []
          },
          "execution_count": 24
        }
      ]
    },
    {
      "cell_type": "code",
      "metadata": {
        "colab": {
          "base_uri": "https://localhost:8080/"
        },
        "id": "ATqApUXHAi8c",
        "outputId": "df75dd37-b49d-4780-cda2-dab634889fd3"
      },
      "source": [
        "data['Star'].value_counts()"
      ],
      "execution_count": 25,
      "outputs": [
        {
          "output_type": "execute_result",
          "data": {
            "text/plain": [
              "5    3871\n",
              "1    1894\n",
              "4     652\n",
              "3     451\n",
              "2     336\n",
              "Name: Star, dtype: int64"
            ]
          },
          "metadata": {
            "tags": []
          },
          "execution_count": 25
        }
      ]
    },
    {
      "cell_type": "code",
      "metadata": {
        "colab": {
          "base_uri": "https://localhost:8080/",
          "height": 204
        },
        "id": "lWz3CEvjD_rk",
        "outputId": "fcfaf93b-2b9b-4f46-ca63-680026adab56"
      },
      "source": [
        "data.dropna(inplace=True)\n",
        "data = data[data['Star']!=3]\n",
        "data['label'] = np.where(data['Star']>3,1,0)\n",
        "data.drop('Star', axis=1, inplace=True)\n",
        "data.head()"
      ],
      "execution_count": 26,
      "outputs": [
        {
          "output_type": "execute_result",
          "data": {
            "text/html": [
              "<div>\n",
              "<style scoped>\n",
              "    .dataframe tbody tr th:only-of-type {\n",
              "        vertical-align: middle;\n",
              "    }\n",
              "\n",
              "    .dataframe tbody tr th {\n",
              "        vertical-align: top;\n",
              "    }\n",
              "\n",
              "    .dataframe thead th {\n",
              "        text-align: right;\n",
              "    }\n",
              "</style>\n",
              "<table border=\"1\" class=\"dataframe\">\n",
              "  <thead>\n",
              "    <tr style=\"text-align: right;\">\n",
              "      <th></th>\n",
              "      <th>Text</th>\n",
              "      <th>label</th>\n",
              "    </tr>\n",
              "  </thead>\n",
              "  <tbody>\n",
              "    <tr>\n",
              "      <th>0</th>\n",
              "      <td>This is very helpfull aap.</td>\n",
              "      <td>1</td>\n",
              "    </tr>\n",
              "    <tr>\n",
              "      <th>2</th>\n",
              "      <td>Not able to update. Neither able to uninstall.</td>\n",
              "      <td>0</td>\n",
              "    </tr>\n",
              "    <tr>\n",
              "      <th>3</th>\n",
              "      <td>Nice app</td>\n",
              "      <td>1</td>\n",
              "    </tr>\n",
              "    <tr>\n",
              "      <th>4</th>\n",
              "      <td>Many unwanted ads</td>\n",
              "      <td>0</td>\n",
              "    </tr>\n",
              "    <tr>\n",
              "      <th>5</th>\n",
              "      <td>This app good</td>\n",
              "      <td>1</td>\n",
              "    </tr>\n",
              "  </tbody>\n",
              "</table>\n",
              "</div>"
            ],
            "text/plain": [
              "                                             Text  label\n",
              "0                      This is very helpfull aap.      1\n",
              "2  Not able to update. Neither able to uninstall.      0\n",
              "3                                        Nice app      1\n",
              "4                               Many unwanted ads      0\n",
              "5                                   This app good      1"
            ]
          },
          "metadata": {
            "tags": []
          },
          "execution_count": 26
        }
      ]
    },
    {
      "cell_type": "code",
      "metadata": {
        "colab": {
          "base_uri": "https://localhost:8080/"
        },
        "id": "8UBEkPSpL3ou",
        "outputId": "5ef7dfd5-ded6-4781-85e0-bf590a5bc633"
      },
      "source": [
        "data.shape"
      ],
      "execution_count": 27,
      "outputs": [
        {
          "output_type": "execute_result",
          "data": {
            "text/plain": [
              "(6752, 2)"
            ]
          },
          "metadata": {
            "tags": []
          },
          "execution_count": 27
        }
      ]
    },
    {
      "cell_type": "code",
      "metadata": {
        "colab": {
          "base_uri": "https://localhost:8080/"
        },
        "id": "1yq67Sp4ENdj",
        "outputId": "266fd7f2-4126-484b-b69a-41039ead0be8"
      },
      "source": [
        "data['label'].value_counts()"
      ],
      "execution_count": 28,
      "outputs": [
        {
          "output_type": "execute_result",
          "data": {
            "text/plain": [
              "1    4522\n",
              "0    2230\n",
              "Name: label, dtype: int64"
            ]
          },
          "metadata": {
            "tags": []
          },
          "execution_count": 28
        }
      ]
    },
    {
      "cell_type": "code",
      "metadata": {
        "id": "FMcmIE2MW1P3"
      },
      "source": [
        "stop_words = set(stopwords.words('english'))\n",
        "stop_words.remove('not')\n",
        "stop_words.remove('nor')"
      ],
      "execution_count": 29,
      "outputs": []
    },
    {
      "cell_type": "code",
      "metadata": {
        "id": "Y_RpmdZIE7oz"
      },
      "source": [
        "ps = PorterStemmer()\n",
        "def clean_text(text):\n",
        "  text = re.sub('[^A-Za-z]',' ',text)\n",
        "  text = text.lower()\n",
        "  word = nltk.word_tokenize(text)\n",
        "  word = [ps.stem(j) for j in word if j not in stop_words]\n",
        "  return (' '.join(word))"
      ],
      "execution_count": 30,
      "outputs": []
    },
    {
      "cell_type": "code",
      "metadata": {
        "id": "wqjt6GOyHlWS"
      },
      "source": [
        "cl_text = [clean_text(i) for i in data['Text']]"
      ],
      "execution_count": 31,
      "outputs": []
    },
    {
      "cell_type": "code",
      "metadata": {
        "id": "irlVWFnuLArp"
      },
      "source": [
        "data['clean_text'] = cl_text\n",
        "data.drop('Text', axis=1, inplace=True)"
      ],
      "execution_count": 32,
      "outputs": []
    },
    {
      "cell_type": "code",
      "metadata": {
        "colab": {
          "base_uri": "https://localhost:8080/",
          "height": 204
        },
        "id": "RbhxUd9JLYgF",
        "outputId": "c84f0cd1-5325-43c5-9f76-0fab8a8b89ad"
      },
      "source": [
        "data.head()"
      ],
      "execution_count": 33,
      "outputs": [
        {
          "output_type": "execute_result",
          "data": {
            "text/html": [
              "<div>\n",
              "<style scoped>\n",
              "    .dataframe tbody tr th:only-of-type {\n",
              "        vertical-align: middle;\n",
              "    }\n",
              "\n",
              "    .dataframe tbody tr th {\n",
              "        vertical-align: top;\n",
              "    }\n",
              "\n",
              "    .dataframe thead th {\n",
              "        text-align: right;\n",
              "    }\n",
              "</style>\n",
              "<table border=\"1\" class=\"dataframe\">\n",
              "  <thead>\n",
              "    <tr style=\"text-align: right;\">\n",
              "      <th></th>\n",
              "      <th>label</th>\n",
              "      <th>clean_text</th>\n",
              "    </tr>\n",
              "  </thead>\n",
              "  <tbody>\n",
              "    <tr>\n",
              "      <th>0</th>\n",
              "      <td>1</td>\n",
              "      <td>helpful aap</td>\n",
              "    </tr>\n",
              "    <tr>\n",
              "      <th>2</th>\n",
              "      <td>0</td>\n",
              "      <td>not abl updat neither abl uninstal</td>\n",
              "    </tr>\n",
              "    <tr>\n",
              "      <th>3</th>\n",
              "      <td>1</td>\n",
              "      <td>nice app</td>\n",
              "    </tr>\n",
              "    <tr>\n",
              "      <th>4</th>\n",
              "      <td>0</td>\n",
              "      <td>mani unwant ad</td>\n",
              "    </tr>\n",
              "    <tr>\n",
              "      <th>5</th>\n",
              "      <td>1</td>\n",
              "      <td>app good</td>\n",
              "    </tr>\n",
              "  </tbody>\n",
              "</table>\n",
              "</div>"
            ],
            "text/plain": [
              "   label                          clean_text\n",
              "0      1                         helpful aap\n",
              "2      0  not abl updat neither abl uninstal\n",
              "3      1                            nice app\n",
              "4      0                      mani unwant ad\n",
              "5      1                            app good"
            ]
          },
          "metadata": {
            "tags": []
          },
          "execution_count": 33
        }
      ]
    },
    {
      "cell_type": "code",
      "metadata": {
        "colab": {
          "base_uri": "https://localhost:8080/"
        },
        "id": "PE0wQHS1LaMV",
        "outputId": "6a0e72ec-be13-4acf-b8b8-7d7f21964700"
      },
      "source": [
        "data.shape"
      ],
      "execution_count": 34,
      "outputs": [
        {
          "output_type": "execute_result",
          "data": {
            "text/plain": [
              "(6752, 2)"
            ]
          },
          "metadata": {
            "tags": []
          },
          "execution_count": 34
        }
      ]
    },
    {
      "cell_type": "code",
      "metadata": {
        "colab": {
          "base_uri": "https://localhost:8080/"
        },
        "id": "aLMz30OVNs9t",
        "outputId": "d08b2ed3-c47e-4edc-ba36-c39318b1747b"
      },
      "source": [
        "data.isnull().any()"
      ],
      "execution_count": 35,
      "outputs": [
        {
          "output_type": "execute_result",
          "data": {
            "text/plain": [
              "label         False\n",
              "clean_text    False\n",
              "dtype: bool"
            ]
          },
          "metadata": {
            "tags": []
          },
          "execution_count": 35
        }
      ]
    },
    {
      "cell_type": "code",
      "metadata": {
        "id": "BsXrH__YQHqg"
      },
      "source": [
        "X = data['clean_text']\n",
        "y = data['label']"
      ],
      "execution_count": 36,
      "outputs": []
    },
    {
      "cell_type": "code",
      "metadata": {
        "id": "l5x_umQiNzQs"
      },
      "source": [
        "from sklearn.model_selection import train_test_split\n",
        "X_train, X_test, y_train, y_test = train_test_split(X, y, test_size = 0.1)"
      ],
      "execution_count": 37,
      "outputs": []
    },
    {
      "cell_type": "code",
      "metadata": {
        "colab": {
          "base_uri": "https://localhost:8080/"
        },
        "id": "z98MGzgtP7QN",
        "outputId": "a65090b0-c21a-4fb9-cb18-b4e42ab37364"
      },
      "source": [
        "print(X_train.shape, X_test.shape, y_train.shape, y_test.shape)"
      ],
      "execution_count": 38,
      "outputs": [
        {
          "output_type": "stream",
          "text": [
            "(6076,) (676,) (6076,) (676,)\n"
          ],
          "name": "stdout"
        }
      ]
    },
    {
      "cell_type": "code",
      "metadata": {
        "colab": {
          "base_uri": "https://localhost:8080/"
        },
        "id": "7t3qI5ouQe_p",
        "outputId": "f7c7d178-3e6c-4d11-fa69-5eeba5849656"
      },
      "source": [
        "one_per_tr = (np.sum(y_train==1) / len(y_train))*100\n",
        "zero_per_tr = (np.sum(y_train==0) / len(y_train))*100\n",
        "one_per_te = (np.sum(y_test==1) / len(y_test))*100\n",
        "zero_per_te = (np.sum(y_test==0) / len(y_test))*100\n",
        "\n",
        "print('{}% 1 and {}% 0 is in train dataset'.format(one_per_tr, zero_per_tr))\n",
        "print('{}% 1 and {}% 0 is in test dataset'.format(one_per_te, zero_per_te))"
      ],
      "execution_count": 39,
      "outputs": [
        {
          "output_type": "stream",
          "text": [
            "67.3633969716919% 1 and 32.636603028308095% 0 is in train dataset\n",
            "63.46153846153846% 1 and 36.53846153846153% 0 is in test dataset\n"
          ],
          "name": "stdout"
        }
      ]
    },
    {
      "cell_type": "code",
      "metadata": {
        "id": "GOTjUrR4ROgt"
      },
      "source": [
        "tf_idf = TfidfVectorizer(max_features=2000, min_df=2, ngram_range=(1,2))\n",
        "tf_idf.fit(X_train)\n",
        "X_train_tfidf = tf_idf.fit_transform(X_train)\n",
        "X_test_tfidf = tf_idf.transform(X_test)"
      ],
      "execution_count": 40,
      "outputs": []
    },
    {
      "cell_type": "code",
      "metadata": {
        "id": "P77TeiTCs1I7"
      },
      "source": [
        "pickle.dump(tf_idf.vocabulary_,open('tfidf.pkl','wb'))"
      ],
      "execution_count": 44,
      "outputs": []
    },
    {
      "cell_type": "code",
      "metadata": {
        "colab": {
          "base_uri": "https://localhost:8080/"
        },
        "id": "MvLaPjnqVqqG",
        "outputId": "58b6be06-cc7a-4fec-9537-201247c07896"
      },
      "source": [
        "X_train_tfidf.shape"
      ],
      "execution_count": 45,
      "outputs": [
        {
          "output_type": "execute_result",
          "data": {
            "text/plain": [
              "(6076, 2000)"
            ]
          },
          "metadata": {
            "tags": []
          },
          "execution_count": 45
        }
      ]
    },
    {
      "cell_type": "code",
      "metadata": {
        "colab": {
          "base_uri": "https://localhost:8080/"
        },
        "id": "DH_cQXoDcvi1",
        "outputId": "2c2bd6a8-1cb2-490b-c5c1-e5de4637a80f"
      },
      "source": [
        "X_test_tfidf.shape"
      ],
      "execution_count": 48,
      "outputs": [
        {
          "output_type": "execute_result",
          "data": {
            "text/plain": [
              "(676, 2000)"
            ]
          },
          "metadata": {
            "tags": []
          },
          "execution_count": 48
        }
      ]
    },
    {
      "cell_type": "code",
      "metadata": {
        "id": "pWdADC5Kc2-9"
      },
      "source": [
        "from sklearn.model_selection import GridSearchCV\n",
        "from sklearn.naive_bayes import MultinomialNB\n",
        "from sklearn.metrics import confusion_matrix, accuracy_score\n",
        "from sklearn.neighbors import KNeighborsClassifier\n",
        "from sklearn.linear_model import LogisticRegression, SGDClassifier"
      ],
      "execution_count": 47,
      "outputs": []
    },
    {
      "cell_type": "markdown",
      "metadata": {
        "id": "Z4yCbwZHr1UN"
      },
      "source": [
        "### Naive Bayes"
      ]
    },
    {
      "cell_type": "code",
      "metadata": {
        "colab": {
          "base_uri": "https://localhost:8080/"
        },
        "id": "5LUenZAQeqO8",
        "outputId": "a97a6648-e1b5-4108-c25a-536ae61effd5"
      },
      "source": [
        "param_nb = {'alpha' : [0.01,0.1,1,10]}\n",
        "model_nb = MultinomialNB()\n",
        "clf_nb = GridSearchCV(model_nb, param_nb, cv=5 ,return_train_score=True)\n",
        "clf_nb.fit(X_train_tfidf, y_train)"
      ],
      "execution_count": 49,
      "outputs": [
        {
          "output_type": "execute_result",
          "data": {
            "text/plain": [
              "GridSearchCV(cv=5, error_score=nan,\n",
              "             estimator=MultinomialNB(alpha=1.0, class_prior=None,\n",
              "                                     fit_prior=True),\n",
              "             iid='deprecated', n_jobs=None,\n",
              "             param_grid={'alpha': [0.01, 0.1, 1, 10]}, pre_dispatch='2*n_jobs',\n",
              "             refit=True, return_train_score=True, scoring=None, verbose=0)"
            ]
          },
          "metadata": {
            "tags": []
          },
          "execution_count": 49
        }
      ]
    },
    {
      "cell_type": "code",
      "metadata": {
        "id": "9xel4dOSe1Tn"
      },
      "source": [
        "y_pred_tr = clf_nb.predict(X_train_tfidf)\n",
        "y_pred_te = clf_nb.predict(X_test_tfidf)"
      ],
      "execution_count": 50,
      "outputs": []
    },
    {
      "cell_type": "code",
      "metadata": {
        "colab": {
          "base_uri": "https://localhost:8080/"
        },
        "id": "a4rAwUxqfR3g",
        "outputId": "6b3f9865-c892-410d-97f8-ce006c2cd45d"
      },
      "source": [
        "cm_tr = confusion_matrix(y_train, y_pred_tr)\n",
        "acc_tr = accuracy_score(y_train, y_pred_tr)\n",
        "\n",
        "cm_te = confusion_matrix(y_test, y_pred_te)\n",
        "acc_te = accuracy_score(y_test, y_pred_te)\n",
        "print('Train confusion matrix: ')\n",
        "print(cm_tr)\n",
        "print('Test confusion matrix: ')\n",
        "print(cm_te)\n",
        "print('Train accuracy: ',acc_tr,' Testaccuracy: ',acc_te)"
      ],
      "execution_count": 51,
      "outputs": [
        {
          "output_type": "stream",
          "text": [
            "Train confusion matrix: \n",
            "[[1603  380]\n",
            " [ 235 3858]]\n",
            "Test confusion matrix: \n",
            "[[181  66]\n",
            " [ 32 397]]\n",
            "Train accuracy:  0.8987820934825543  Testaccuracy:  0.8550295857988166\n"
          ],
          "name": "stdout"
        }
      ]
    },
    {
      "cell_type": "code",
      "metadata": {
        "colab": {
          "base_uri": "https://localhost:8080/"
        },
        "id": "U_9TR6cT5JxI",
        "outputId": "0c623a0d-5a3e-4924-9ff3-9088cb59a96b"
      },
      "source": [
        "clf_nb.best_params_"
      ],
      "execution_count": 52,
      "outputs": [
        {
          "output_type": "execute_result",
          "data": {
            "text/plain": [
              "{'alpha': 1}"
            ]
          },
          "metadata": {
            "tags": []
          },
          "execution_count": 52
        }
      ]
    },
    {
      "cell_type": "markdown",
      "metadata": {
        "id": "IJAU7-gOr6g0"
      },
      "source": [
        "### KNN"
      ]
    },
    {
      "cell_type": "code",
      "metadata": {
        "colab": {
          "base_uri": "https://localhost:8080/"
        },
        "id": "RxNIsvVqr8yr",
        "outputId": "79a90df4-931c-47b2-bd5d-9968b0d57a2c"
      },
      "source": [
        "param_knn = {'n_neighbors' : [1,5,10,20,50]}\n",
        "model_knn = KNeighborsClassifier()\n",
        "clf_knn = GridSearchCV(model_knn, param_knn, cv=5 ,return_train_score=True)\n",
        "clf_knn.fit(X_train_tfidf, y_train)"
      ],
      "execution_count": 330,
      "outputs": [
        {
          "output_type": "execute_result",
          "data": {
            "text/plain": [
              "GridSearchCV(cv=5, error_score=nan,\n",
              "             estimator=KNeighborsClassifier(algorithm='auto', leaf_size=30,\n",
              "                                            metric='minkowski',\n",
              "                                            metric_params=None, n_jobs=None,\n",
              "                                            n_neighbors=5, p=2,\n",
              "                                            weights='uniform'),\n",
              "             iid='deprecated', n_jobs=None,\n",
              "             param_grid={'n_neighbors': [1, 5, 10, 20, 50]},\n",
              "             pre_dispatch='2*n_jobs', refit=True, return_train_score=True,\n",
              "             scoring=None, verbose=0)"
            ]
          },
          "metadata": {
            "tags": []
          },
          "execution_count": 330
        }
      ]
    },
    {
      "cell_type": "code",
      "metadata": {
        "id": "wk7QQIScwy6n"
      },
      "source": [
        "y_pred_tr = clf_knn.predict(X_train_tfidf)\n",
        "y_pred_te = clf_knn.predict(X_test_tfidf)"
      ],
      "execution_count": 331,
      "outputs": []
    },
    {
      "cell_type": "code",
      "metadata": {
        "colab": {
          "base_uri": "https://localhost:8080/"
        },
        "id": "LKAi7LQgw4Uj",
        "outputId": "4ed3e37e-1656-4cd2-87fb-bc47ba05c5d0"
      },
      "source": [
        "cm_tr = confusion_matrix(y_train, y_pred_tr)\n",
        "acc_tr = accuracy_score(y_train, y_pred_tr)\n",
        "\n",
        "cm_te = confusion_matrix(y_test, y_pred_te)\n",
        "acc_te = accuracy_score(y_test, y_pred_te)\n",
        "print('Train confusion matrix: ')\n",
        "print(cm_tr)\n",
        "print('Test confusion matrix: ')\n",
        "print(cm_te)\n",
        "print('Train accuracy: ',acc_tr,' Testaccuracy: ',acc_te)"
      ],
      "execution_count": 332,
      "outputs": [
        {
          "output_type": "stream",
          "text": [
            "Train confusion matrix: \n",
            "[[1007 1016]\n",
            " [ 142 3911]]\n",
            "Test confusion matrix: \n",
            "[[ 85 122]\n",
            " [ 20 449]]\n",
            "Train accuracy:  0.8094140882159315  Testaccuracy:  0.7899408284023669\n"
          ],
          "name": "stdout"
        }
      ]
    },
    {
      "cell_type": "markdown",
      "metadata": {
        "id": "z0RFsMDgxOoC"
      },
      "source": [
        "### Logistic Regression"
      ]
    },
    {
      "cell_type": "code",
      "metadata": {
        "colab": {
          "base_uri": "https://localhost:8080/"
        },
        "id": "vYYGIMcKxTq9",
        "outputId": "d86ec5d5-9d78-449b-a52a-dda7337b6dd8"
      },
      "source": [
        "param_lr = {'C' : [0.0001, 0.001, 0.01,0.1,1,10,100]}\n",
        "model_lr = LogisticRegression()\n",
        "clf_lr = GridSearchCV(model_lr, param_lr, cv=5 ,return_train_score=True)\n",
        "clf_lr.fit(X_train_tfidf, y_train)"
      ],
      "execution_count": 333,
      "outputs": [
        {
          "output_type": "stream",
          "text": [
            "/usr/local/lib/python3.7/dist-packages/sklearn/linear_model/_logistic.py:940: ConvergenceWarning: lbfgs failed to converge (status=1):\n",
            "STOP: TOTAL NO. of ITERATIONS REACHED LIMIT.\n",
            "\n",
            "Increase the number of iterations (max_iter) or scale the data as shown in:\n",
            "    https://scikit-learn.org/stable/modules/preprocessing.html\n",
            "Please also refer to the documentation for alternative solver options:\n",
            "    https://scikit-learn.org/stable/modules/linear_model.html#logistic-regression\n",
            "  extra_warning_msg=_LOGISTIC_SOLVER_CONVERGENCE_MSG)\n",
            "/usr/local/lib/python3.7/dist-packages/sklearn/linear_model/_logistic.py:940: ConvergenceWarning: lbfgs failed to converge (status=1):\n",
            "STOP: TOTAL NO. of ITERATIONS REACHED LIMIT.\n",
            "\n",
            "Increase the number of iterations (max_iter) or scale the data as shown in:\n",
            "    https://scikit-learn.org/stable/modules/preprocessing.html\n",
            "Please also refer to the documentation for alternative solver options:\n",
            "    https://scikit-learn.org/stable/modules/linear_model.html#logistic-regression\n",
            "  extra_warning_msg=_LOGISTIC_SOLVER_CONVERGENCE_MSG)\n",
            "/usr/local/lib/python3.7/dist-packages/sklearn/linear_model/_logistic.py:940: ConvergenceWarning: lbfgs failed to converge (status=1):\n",
            "STOP: TOTAL NO. of ITERATIONS REACHED LIMIT.\n",
            "\n",
            "Increase the number of iterations (max_iter) or scale the data as shown in:\n",
            "    https://scikit-learn.org/stable/modules/preprocessing.html\n",
            "Please also refer to the documentation for alternative solver options:\n",
            "    https://scikit-learn.org/stable/modules/linear_model.html#logistic-regression\n",
            "  extra_warning_msg=_LOGISTIC_SOLVER_CONVERGENCE_MSG)\n",
            "/usr/local/lib/python3.7/dist-packages/sklearn/linear_model/_logistic.py:940: ConvergenceWarning: lbfgs failed to converge (status=1):\n",
            "STOP: TOTAL NO. of ITERATIONS REACHED LIMIT.\n",
            "\n",
            "Increase the number of iterations (max_iter) or scale the data as shown in:\n",
            "    https://scikit-learn.org/stable/modules/preprocessing.html\n",
            "Please also refer to the documentation for alternative solver options:\n",
            "    https://scikit-learn.org/stable/modules/linear_model.html#logistic-regression\n",
            "  extra_warning_msg=_LOGISTIC_SOLVER_CONVERGENCE_MSG)\n",
            "/usr/local/lib/python3.7/dist-packages/sklearn/linear_model/_logistic.py:940: ConvergenceWarning: lbfgs failed to converge (status=1):\n",
            "STOP: TOTAL NO. of ITERATIONS REACHED LIMIT.\n",
            "\n",
            "Increase the number of iterations (max_iter) or scale the data as shown in:\n",
            "    https://scikit-learn.org/stable/modules/preprocessing.html\n",
            "Please also refer to the documentation for alternative solver options:\n",
            "    https://scikit-learn.org/stable/modules/linear_model.html#logistic-regression\n",
            "  extra_warning_msg=_LOGISTIC_SOLVER_CONVERGENCE_MSG)\n",
            "/usr/local/lib/python3.7/dist-packages/sklearn/linear_model/_logistic.py:940: ConvergenceWarning: lbfgs failed to converge (status=1):\n",
            "STOP: TOTAL NO. of ITERATIONS REACHED LIMIT.\n",
            "\n",
            "Increase the number of iterations (max_iter) or scale the data as shown in:\n",
            "    https://scikit-learn.org/stable/modules/preprocessing.html\n",
            "Please also refer to the documentation for alternative solver options:\n",
            "    https://scikit-learn.org/stable/modules/linear_model.html#logistic-regression\n",
            "  extra_warning_msg=_LOGISTIC_SOLVER_CONVERGENCE_MSG)\n",
            "/usr/local/lib/python3.7/dist-packages/sklearn/linear_model/_logistic.py:940: ConvergenceWarning: lbfgs failed to converge (status=1):\n",
            "STOP: TOTAL NO. of ITERATIONS REACHED LIMIT.\n",
            "\n",
            "Increase the number of iterations (max_iter) or scale the data as shown in:\n",
            "    https://scikit-learn.org/stable/modules/preprocessing.html\n",
            "Please also refer to the documentation for alternative solver options:\n",
            "    https://scikit-learn.org/stable/modules/linear_model.html#logistic-regression\n",
            "  extra_warning_msg=_LOGISTIC_SOLVER_CONVERGENCE_MSG)\n",
            "/usr/local/lib/python3.7/dist-packages/sklearn/linear_model/_logistic.py:940: ConvergenceWarning: lbfgs failed to converge (status=1):\n",
            "STOP: TOTAL NO. of ITERATIONS REACHED LIMIT.\n",
            "\n",
            "Increase the number of iterations (max_iter) or scale the data as shown in:\n",
            "    https://scikit-learn.org/stable/modules/preprocessing.html\n",
            "Please also refer to the documentation for alternative solver options:\n",
            "    https://scikit-learn.org/stable/modules/linear_model.html#logistic-regression\n",
            "  extra_warning_msg=_LOGISTIC_SOLVER_CONVERGENCE_MSG)\n",
            "/usr/local/lib/python3.7/dist-packages/sklearn/linear_model/_logistic.py:940: ConvergenceWarning: lbfgs failed to converge (status=1):\n",
            "STOP: TOTAL NO. of ITERATIONS REACHED LIMIT.\n",
            "\n",
            "Increase the number of iterations (max_iter) or scale the data as shown in:\n",
            "    https://scikit-learn.org/stable/modules/preprocessing.html\n",
            "Please also refer to the documentation for alternative solver options:\n",
            "    https://scikit-learn.org/stable/modules/linear_model.html#logistic-regression\n",
            "  extra_warning_msg=_LOGISTIC_SOLVER_CONVERGENCE_MSG)\n",
            "/usr/local/lib/python3.7/dist-packages/sklearn/linear_model/_logistic.py:940: ConvergenceWarning: lbfgs failed to converge (status=1):\n",
            "STOP: TOTAL NO. of ITERATIONS REACHED LIMIT.\n",
            "\n",
            "Increase the number of iterations (max_iter) or scale the data as shown in:\n",
            "    https://scikit-learn.org/stable/modules/preprocessing.html\n",
            "Please also refer to the documentation for alternative solver options:\n",
            "    https://scikit-learn.org/stable/modules/linear_model.html#logistic-regression\n",
            "  extra_warning_msg=_LOGISTIC_SOLVER_CONVERGENCE_MSG)\n"
          ],
          "name": "stderr"
        },
        {
          "output_type": "execute_result",
          "data": {
            "text/plain": [
              "GridSearchCV(cv=5, error_score=nan,\n",
              "             estimator=LogisticRegression(C=1.0, class_weight=None, dual=False,\n",
              "                                          fit_intercept=True,\n",
              "                                          intercept_scaling=1, l1_ratio=None,\n",
              "                                          max_iter=100, multi_class='auto',\n",
              "                                          n_jobs=None, penalty='l2',\n",
              "                                          random_state=None, solver='lbfgs',\n",
              "                                          tol=0.0001, verbose=0,\n",
              "                                          warm_start=False),\n",
              "             iid='deprecated', n_jobs=None,\n",
              "             param_grid={'C': [0.0001, 0.001, 0.01, 0.1, 1, 10, 100]},\n",
              "             pre_dispatch='2*n_jobs', refit=True, return_train_score=True,\n",
              "             scoring=None, verbose=0)"
            ]
          },
          "metadata": {
            "tags": []
          },
          "execution_count": 333
        }
      ]
    },
    {
      "cell_type": "code",
      "metadata": {
        "id": "cNn_CvNAzMun"
      },
      "source": [
        "y_pred_tr = clf_lr.predict(X_train_tfidf)\n",
        "y_pred_te = clf_lr.predict(X_test_tfidf)"
      ],
      "execution_count": 334,
      "outputs": []
    },
    {
      "cell_type": "code",
      "metadata": {
        "colab": {
          "base_uri": "https://localhost:8080/"
        },
        "id": "B8r1_FHFzque",
        "outputId": "06c85221-f72a-4480-8657-e702bcc9794f"
      },
      "source": [
        "cm_tr = confusion_matrix(y_train, y_pred_tr)\n",
        "acc_tr = accuracy_score(y_train, y_pred_tr)\n",
        "\n",
        "cm_te = confusion_matrix(y_test, y_pred_te)\n",
        "acc_te = accuracy_score(y_test, y_pred_te)\n",
        "print('Train confusion matrix: ')\n",
        "print(cm_tr)\n",
        "print('Test confusion matrix: ')\n",
        "print(cm_te)\n",
        "print('Train accuracy: ',acc_tr,' Testaccuracy: ',acc_te)"
      ],
      "execution_count": 335,
      "outputs": [
        {
          "output_type": "stream",
          "text": [
            "Train confusion matrix: \n",
            "[[1592  431]\n",
            " [ 213 3840]]\n",
            "Test confusion matrix: \n",
            "[[159  48]\n",
            " [ 28 441]]\n",
            "Train accuracy:  0.8940092165898618  Testaccuracy:  0.8875739644970414\n"
          ],
          "name": "stdout"
        }
      ]
    },
    {
      "cell_type": "markdown",
      "metadata": {
        "id": "_xOskveVzxwU"
      },
      "source": [
        "### SVC"
      ]
    },
    {
      "cell_type": "code",
      "metadata": {
        "colab": {
          "base_uri": "https://localhost:8080/"
        },
        "id": "c_Dc-4rCz2Ns",
        "outputId": "001481a0-462e-4aed-cacf-75257d25e5c6"
      },
      "source": [
        "param_svm = {'alpha' : [0.0001, 0.001, 0.01,0.1,1]}\n",
        "model_svm = SGDClassifier(loss='hinge')\n",
        "clf_svm = GridSearchCV(model_svm, param_svm, cv=5 ,return_train_score=True)\n",
        "clf_svm.fit(X_train_tfidf, y_train)"
      ],
      "execution_count": 336,
      "outputs": [
        {
          "output_type": "execute_result",
          "data": {
            "text/plain": [
              "GridSearchCV(cv=5, error_score=nan,\n",
              "             estimator=SGDClassifier(alpha=0.0001, average=False,\n",
              "                                     class_weight=None, early_stopping=False,\n",
              "                                     epsilon=0.1, eta0=0.0, fit_intercept=True,\n",
              "                                     l1_ratio=0.15, learning_rate='optimal',\n",
              "                                     loss='hinge', max_iter=1000,\n",
              "                                     n_iter_no_change=5, n_jobs=None,\n",
              "                                     penalty='l2', power_t=0.5,\n",
              "                                     random_state=None, shuffle=True, tol=0.001,\n",
              "                                     validation_fraction=0.1, verbose=0,\n",
              "                                     warm_start=False),\n",
              "             iid='deprecated', n_jobs=None,\n",
              "             param_grid={'alpha': [0.0001, 0.001, 0.01, 0.1, 1]},\n",
              "             pre_dispatch='2*n_jobs', refit=True, return_train_score=True,\n",
              "             scoring=None, verbose=0)"
            ]
          },
          "metadata": {
            "tags": []
          },
          "execution_count": 336
        }
      ]
    },
    {
      "cell_type": "code",
      "metadata": {
        "id": "QgvcZQam1r3p"
      },
      "source": [
        "y_pred_tr = clf_svm.predict(X_train_tfidf)\n",
        "y_pred_te = clf_svm.predict(X_test_tfidf)"
      ],
      "execution_count": 337,
      "outputs": []
    },
    {
      "cell_type": "code",
      "metadata": {
        "colab": {
          "base_uri": "https://localhost:8080/"
        },
        "id": "Ta9RAz2u4KCk",
        "outputId": "9405dfea-36b9-49be-cb47-ab4151885f05"
      },
      "source": [
        "cm_tr = confusion_matrix(y_train, y_pred_tr)\n",
        "acc_tr = accuracy_score(y_train, y_pred_tr)\n",
        "\n",
        "cm_te = confusion_matrix(y_test, y_pred_te)\n",
        "acc_te = accuracy_score(y_test, y_pred_te)\n",
        "print('Train confusion matrix: ')\n",
        "print(cm_tr)\n",
        "print('Test confusion matrix: ')\n",
        "print(cm_te)\n",
        "print('Train accuracy: ',acc_tr,' Testaccuracy: ',acc_te)"
      ],
      "execution_count": 338,
      "outputs": [
        {
          "output_type": "stream",
          "text": [
            "Train confusion matrix: \n",
            "[[1677  346]\n",
            " [ 186 3867]]\n",
            "Test confusion matrix: \n",
            "[[157  50]\n",
            " [ 34 435]]\n",
            "Train accuracy:  0.9124423963133641  Testaccuracy:  0.8757396449704142\n"
          ],
          "name": "stdout"
        }
      ]
    },
    {
      "cell_type": "markdown",
      "metadata": {
        "id": "vjBYhmIf5TIC"
      },
      "source": [
        "# Naive Bayes classifier with alpha=1 is best classifier"
      ]
    },
    {
      "cell_type": "code",
      "metadata": {
        "id": "yeJut08C5Z7n"
      },
      "source": [
        "import pickle"
      ],
      "execution_count": 53,
      "outputs": []
    },
    {
      "cell_type": "code",
      "metadata": {
        "colab": {
          "base_uri": "https://localhost:8080/"
        },
        "id": "zR8YACT6_K0d",
        "outputId": "ff8f15f6-bb87-41c8-c3ad-cb9517eabd47"
      },
      "source": [
        "model = MultinomialNB(alpha=1)\n",
        "model.fit(X_train_tfidf.toarray(), y_train)"
      ],
      "execution_count": 54,
      "outputs": [
        {
          "output_type": "execute_result",
          "data": {
            "text/plain": [
              "MultinomialNB(alpha=1, class_prior=None, fit_prior=True)"
            ]
          },
          "metadata": {
            "tags": []
          },
          "execution_count": 54
        }
      ]
    },
    {
      "cell_type": "code",
      "metadata": {
        "id": "QAfy2gF2_jYv"
      },
      "source": [
        "pickle.dump(model, open('model.pkl','wb'))"
      ],
      "execution_count": 55,
      "outputs": []
    },
    {
      "cell_type": "code",
      "metadata": {
        "id": "27RaaUadDNeM"
      },
      "source": [
        "model = pickle.load(open('model.pkl','rb'))"
      ],
      "execution_count": 56,
      "outputs": []
    },
    {
      "cell_type": "code",
      "metadata": {
        "id": "znd9-UGaxx4x"
      },
      "source": [
        "tfidf = TfidfVectorizer(vocabulary=pickle.load(open(\"tfidf.pkl\", \"rb\")))"
      ],
      "execution_count": 57,
      "outputs": []
    },
    {
      "cell_type": "code",
      "metadata": {
        "id": "o6jhkqu5yzgC"
      },
      "source": [
        "transformer = TfidfTransformer()"
      ],
      "execution_count": 61,
      "outputs": []
    },
    {
      "cell_type": "code",
      "metadata": {
        "id": "L60BCSQjyPp3"
      },
      "source": [
        "temp = transformer.fit_transform(tfidf.fit_transform([\"aaa ccc eee\"]))"
      ],
      "execution_count": 71,
      "outputs": []
    },
    {
      "cell_type": "code",
      "metadata": {
        "colab": {
          "base_uri": "https://localhost:8080/"
        },
        "id": "DqNcxPybye9L",
        "outputId": "0a70094b-d52f-4745-adbb-5ef95744ff90"
      },
      "source": [
        "temp.toarray().shape"
      ],
      "execution_count": 69,
      "outputs": [
        {
          "output_type": "execute_result",
          "data": {
            "text/plain": [
              "(1, 2000)"
            ]
          },
          "metadata": {
            "tags": []
          },
          "execution_count": 69
        }
      ]
    },
    {
      "cell_type": "code",
      "metadata": {
        "colab": {
          "base_uri": "https://localhost:8080/"
        },
        "id": "Z9wUJh-Jyl4P",
        "outputId": "5df0c1d2-cf63-44f7-a66a-660eb4fb9af7"
      },
      "source": [
        "model.predict(temp)[0]"
      ],
      "execution_count": 73,
      "outputs": [
        {
          "output_type": "execute_result",
          "data": {
            "text/plain": [
              "1"
            ]
          },
          "metadata": {
            "tags": []
          },
          "execution_count": 73
        }
      ]
    },
    {
      "cell_type": "code",
      "metadata": {
        "id": "hK8DnNmnzewR"
      },
      "source": [
        ""
      ],
      "execution_count": null,
      "outputs": []
    }
  ]
}